{
 "cells": [
  {
   "cell_type": "code",
   "execution_count": 1,
   "metadata": {
    "collapsed": true
   },
   "outputs": [],
   "source": [
    "import numpy as np\n",
    "import matplotlib.pyplot as plt\n",
    "\n",
    "from scipy.optimize import curve_fit\n",
    "import sympy as spy\n",
    "spy.init_printing()"
   ]
  },
  {
   "cell_type": "code",
   "execution_count": 2,
   "metadata": {
    "collapsed": false
   },
   "outputs": [],
   "source": [
    "I0, l, d, theta, a = spy.symbols(r\"I_0 \\lambda d \\theta a\", real = True, positive = True)"
   ]
  },
  {
   "cell_type": "code",
   "execution_count": 3,
   "metadata": {
    "collapsed": true
   },
   "outputs": [],
   "source": [
    "def I1(I0, d, l, theta, a):\n",
    "    pi = spy.pi\n",
    "    cos = spy.cos\n",
    "    sin = spy.sin\n",
    "        \n",
    "    f1 = cos(pi/l*d*sin(theta))**2\n",
    "    f2 = (sin(pi*a/l*sin(theta))/(pi*a/l*sin(theta)))**2\n",
    "    return I0*f1*f2\n",
    "\n",
    "def I2(I0, d, l, theta, a):\n",
    "    pi = np.pi\n",
    "    cos = np.cos\n",
    "    sin = np.sin\n",
    "    \n",
    "    f1 = cos(pi/l*d*sin(theta))**2\n",
    "    f2 = (sin(pi*a/l*sin(theta))/(pi*a/l*sin(theta)))**2\n",
    "    return I0*f1*f2"
   ]
  },
  {
   "cell_type": "code",
   "execution_count": 4,
   "metadata": {
    "collapsed": false
   },
   "outputs": [],
   "source": [
    "exp = I1(I0, d, l, theta, a)"
   ]
  },
  {
   "cell_type": "code",
   "execution_count": 5,
   "metadata": {
    "collapsed": false
   },
   "outputs": [],
   "source": [
    "double_slit = np.genfromtxt(\"Doble_rendija.txt\")\n",
    "interferometer = np.genfromtxt(\"Fabry_Perot.txt\")\n",
    "stationary = np.genfromtxt(\"Onda_estacionaria.txt\")\n",
    "emisor = np.genfromtxt(\"Orientacion_emisor.txt\")\n",
    "polarizer = np.genfromtxt(\"Polarizador.txt\")\n",
    "polarizerx3 = np.genfromtxt(\"Polarizador_x3.txt\")\n",
    "polarizerx10 = np.genfromtxt(\"Polarizadores_x10.txt\")\n",
    "reflexion = np.genfromtxt(\"Reflexion.txt\")"
   ]
  },
  {
   "cell_type": "markdown",
   "metadata": {},
   "source": [
    "# Double slit"
   ]
  },
  {
   "cell_type": "code",
   "execution_count": 6,
   "metadata": {
    "collapsed": true
   },
   "outputs": [],
   "source": [
    "def fitI(theta, l, a):\n",
    "    return I2(1, 6.5, l, theta, a)"
   ]
  },
  {
   "cell_type": "code",
   "execution_count": 7,
   "metadata": {
    "collapsed": false
   },
   "outputs": [
    {
     "name": "stdout",
     "output_type": "stream",
     "text": [
      "L = 2.7 + 0.2\n",
      "a = 2.2 + 0.4\n"
     ]
    },
    {
     "data": {
      "image/png": "[encoded data removed]",
      "text/plain": [
       "<matplotlib.figure.Figure at 0x7f166c43dd30>"
      ]
     },
     "metadata": {},
     "output_type": "display_data"
    }
   ],
   "source": [
    "theta = np.deg2rad(double_slit[1:, 0])\n",
    "intensity = double_slit[1:, 1]\n",
    "\n",
    "plt.plot(theta, intensity, \"o\", label = \"Experimental\")\n",
    "\n",
    "theta[0] = 0.1\n",
    "popt, pcov = curve_fit(fitI, theta, intensity, bounds = [[1.0, 0.1], [4.0, 3.0]])\n",
    "\n",
    "x = np.linspace(1e-3, np.pi/2, 100)\n",
    "y = I2(1, 6.5, popt[0], x, popt[1])\n",
    "\n",
    "print(\"L = %.1f + %.1f\"%(popt[0], pcov[0, 0]**0.5))\n",
    "print(\"a = %.1f + %.1f\"%(popt[1], pcov[1, 1]**0.5))\n",
    "\n",
    "plt.plot(x, y, label = \"Teórico\")\n",
    "\n",
    "plt.xlabel(r\"$\\theta$ (rad)\")\n",
    "plt.ylabel(\"Intensidad (u.a.)\")\n",
    "\n",
    "plt.savefig(\"DobleRendija.pdf\")\n",
    "plt.show()"
   ]
  },
  {
   "cell_type": "markdown",
   "metadata": {},
   "source": [
    "# Distancia"
   ]
  },
  {
   "cell_type": "code",
   "execution_count": 8,
   "metadata": {
    "collapsed": false
   },
   "outputs": [
    {
     "data": {
      "image/png": "[encoded data removed]",
      "text/plain": [
       "<matplotlib.figure.Figure at 0x7f166a09c748>"
      ]
     },
     "metadata": {},
     "output_type": "display_data"
    }
   ],
   "source": [
    "x = stationary[1:, 0]/100\n",
    "y = np.prod(stationary[1:, 1:], axis = 1)\n",
    "\n",
    "x = 1/x**2\n",
    "plt.plot(x, y, \"o\")\n",
    "\n",
    "(m, b), cov = np.polyfit(x, y, 1, cov = True)\n",
    "x = np.linspace(0.9*x.min(), x.max()*1.1)\n",
    "y = m*x + b\n",
    "\n",
    "plt.plot(x, y, \"--\", c = \"g\")\n",
    "plt.text(3.0, 0.5, r\"$I(r) = \\frac{%.2f \\pm %.2f}{r^2} + (%.2f \\pm %.2f)$\"%(m, cov[0, 0]**0.5, b, cov[1, 1]**0.5))\n",
    "\n",
    "plt.xlabel(\"$1/r^2$ (m$^{-2}$)\")\n",
    "plt.ylabel(\"Intensidad (u.a.)\")\n",
    "plt.savefig(\"Distancia.pdf\")\n",
    "plt.show()"
   ]
  },
  {
   "cell_type": "code",
   "execution_count": null,
   "metadata": {
    "collapsed": true
   },
   "outputs": [],
   "source": []
  }
 ],
 "metadata": {
  "kernelspec": {
   "display_name": "Python 3",
   "language": "python",
   "name": "python3"
  },
  "language_info": {
   "codemirror_mode": {
    "name": "ipython",
    "version": 3
   },
   "file_extension": ".py",
   "mimetype": "text/x-python",
   "name": "python",
   "nbconvert_exporter": "python",
   "pygments_lexer": "ipython3",
   "version": "3.4.5"
  }
 },
 "nbformat": 4,
 "nbformat_minor": 2
}
