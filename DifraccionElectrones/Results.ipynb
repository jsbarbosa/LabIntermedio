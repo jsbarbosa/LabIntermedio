{
 "cells": [
  {
   "cell_type": "code",
   "execution_count": 1,
   "metadata": {
    "collapsed": false
   },
   "outputs": [],
   "source": [
    "import numpy as np\n",
    "import pandas as pd\n",
    "import matplotlib.pyplot as plt\n",
    "\n",
    "from scipy.optimize import curve_fit\n",
    "from scipy.constants import h, m_e, e"
   ]
  },
  {
   "cell_type": "code",
   "execution_count": 2,
   "metadata": {
    "collapsed": false
   },
   "outputs": [
    {
     "data": {
      "text/html": [
       "<div>\n",
       "<style scoped>\n",
       "    .dataframe tbody tr th:only-of-type {\n",
       "        vertical-align: middle;\n",
       "    }\n",
       "\n",
       "    .dataframe tbody tr th {\n",
       "        vertical-align: top;\n",
       "    }\n",
       "\n",
       "    .dataframe thead th {\n",
       "        text-align: right;\n",
       "    }\n",
       "</style>\n",
       "<table border=\"1\" class=\"dataframe\">\n",
       "  <thead>\n",
       "    <tr style=\"text-align: right;\">\n",
       "      <th></th>\n",
       "      <th>Voltaje (V)</th>\n",
       "      <th>D1 (cm)</th>\n",
       "      <th>D2 (cm)</th>\n",
       "    </tr>\n",
       "  </thead>\n",
       "  <tbody>\n",
       "    <tr>\n",
       "      <th>0</th>\n",
       "      <td>2.5</td>\n",
       "      <td>3.36</td>\n",
       "      <td>5.57</td>\n",
       "    </tr>\n",
       "    <tr>\n",
       "      <th>1</th>\n",
       "      <td>2.7</td>\n",
       "      <td>3.20</td>\n",
       "      <td>5.49</td>\n",
       "    </tr>\n",
       "    <tr>\n",
       "      <th>2</th>\n",
       "      <td>2.9</td>\n",
       "      <td>3.13</td>\n",
       "      <td>5.37</td>\n",
       "    </tr>\n",
       "    <tr>\n",
       "      <th>3</th>\n",
       "      <td>3.1</td>\n",
       "      <td>2.94</td>\n",
       "      <td>5.12</td>\n",
       "    </tr>\n",
       "    <tr>\n",
       "      <th>4</th>\n",
       "      <td>3.2</td>\n",
       "      <td>2.86</td>\n",
       "      <td>4.87</td>\n",
       "    </tr>\n",
       "    <tr>\n",
       "      <th>5</th>\n",
       "      <td>3.4</td>\n",
       "      <td>2.70</td>\n",
       "      <td>4.70</td>\n",
       "    </tr>\n",
       "    <tr>\n",
       "      <th>6</th>\n",
       "      <td>3.6</td>\n",
       "      <td>2.66</td>\n",
       "      <td>4.62</td>\n",
       "    </tr>\n",
       "    <tr>\n",
       "      <th>7</th>\n",
       "      <td>3.8</td>\n",
       "      <td>2.70</td>\n",
       "      <td>4.40</td>\n",
       "    </tr>\n",
       "    <tr>\n",
       "      <th>8</th>\n",
       "      <td>4.0</td>\n",
       "      <td>2.58</td>\n",
       "      <td>4.45</td>\n",
       "    </tr>\n",
       "    <tr>\n",
       "      <th>9</th>\n",
       "      <td>4.3</td>\n",
       "      <td>2.45</td>\n",
       "      <td>4.25</td>\n",
       "    </tr>\n",
       "    <tr>\n",
       "      <th>10</th>\n",
       "      <td>4.4</td>\n",
       "      <td>2.40</td>\n",
       "      <td>4.16</td>\n",
       "    </tr>\n",
       "    <tr>\n",
       "      <th>11</th>\n",
       "      <td>4.6</td>\n",
       "      <td>2.50</td>\n",
       "      <td>4.10</td>\n",
       "    </tr>\n",
       "    <tr>\n",
       "      <th>12</th>\n",
       "      <td>4.8</td>\n",
       "      <td>2.44</td>\n",
       "      <td>4.05</td>\n",
       "    </tr>\n",
       "    <tr>\n",
       "      <th>13</th>\n",
       "      <td>5.0</td>\n",
       "      <td>2.30</td>\n",
       "      <td>4.00</td>\n",
       "    </tr>\n",
       "  </tbody>\n",
       "</table>\n",
       "</div>"
      ],
      "text/plain": [
       "    Voltaje (V)  D1 (cm)  D2 (cm)\n",
       "0           2.5     3.36     5.57\n",
       "1           2.7     3.20     5.49\n",
       "2           2.9     3.13     5.37\n",
       "3           3.1     2.94     5.12\n",
       "4           3.2     2.86     4.87\n",
       "5           3.4     2.70     4.70\n",
       "6           3.6     2.66     4.62\n",
       "7           3.8     2.70     4.40\n",
       "8           4.0     2.58     4.45\n",
       "9           4.3     2.45     4.25\n",
       "10          4.4     2.40     4.16\n",
       "11          4.6     2.50     4.10\n",
       "12          4.8     2.44     4.05\n",
       "13          5.0     2.30     4.00"
      ]
     },
     "execution_count": 2,
     "metadata": {},
     "output_type": "execute_result"
    }
   ],
   "source": [
    "data = pd.read_csv(\"ElectronData.csv\")\n",
    "\n",
    "d1 = 213e-12\n",
    "d2 = 123e-12\n",
    "L = 13.5 / 100\n",
    "\n",
    "data"
   ]
  },
  {
   "cell_type": "code",
   "execution_count": 3,
   "metadata": {
    "collapsed": false
   },
   "outputs": [],
   "source": [
    "V = data[\"Voltaje (V)\"].values * 1000\n",
    "D1 = data[\"D1 (cm)\"].values / 100\n",
    "D2 = data[\"D2 (cm)\"].values / 100"
   ]
  },
  {
   "cell_type": "markdown",
   "metadata": {},
   "source": [
    "# 1. Longitudes de Onda"
   ]
  },
  {
   "cell_type": "code",
   "execution_count": 4,
   "metadata": {
    "collapsed": false
   },
   "outputs": [
    {
     "data": {
      "image/png": "[encoded data removed]",
      "text/plain": [
       "<matplotlib.figure.Figure at 0x7f9fe57b5780>"
      ]
     },
     "metadata": {},
     "output_type": "display_data"
    }
   ],
   "source": [
    "lambda_deBroglie = h / ((2*e*m_e*V)**0.5)\n",
    "lambda_Bragg1 = 2 * d1 * np.sin(0.5 * np.arctan(0.5 * D1/L))\n",
    "lambda_Bragg2 = 2 * d2 * np.sin(0.5 * np.arctan(0.5 * D2/L))\n",
    "\n",
    "plt.plot(lambda_deBroglie, \"-o\", label = r\"$\\lambda_{de Broglie}$\")\n",
    "plt.plot(lambda_Bragg1, \"-o\", label = r\"$\\lambda_{Bragg 1}$\")\n",
    "plt.plot(lambda_Bragg2, \"-o\", label = r\"$\\lambda_{Bragg 2}$\")\n",
    "\n",
    "plt.legend()\n",
    "plt.xlabel(\"Número de dato\")\n",
    "plt.ylabel(\"$\\lambda$ (m)\")\n",
    "plt.savefig(\"lambdas.pdf\")\n",
    "\n",
    "plt.show()"
   ]
  },
  {
   "cell_type": "code",
   "execution_count": 5,
   "metadata": {
    "collapsed": false
   },
   "outputs": [
    {
     "name": "stdout",
     "output_type": "stream",
     "text": [
      "5.086532266787947 2.7194249461480093\n"
     ]
    }
   ],
   "source": [
    "error1 = 100 * abs(lambda_Bragg1 - lambda_deBroglie)/lambda_deBroglie\n",
    "error2 = 100 * abs(lambda_Bragg2 - lambda_deBroglie)/lambda_deBroglie\n",
    "\n",
    "print(error1.mean(), error2.mean())"
   ]
  },
  {
   "cell_type": "markdown",
   "metadata": {},
   "source": [
    "# 3. Obtener D"
   ]
  },
  {
   "cell_type": "code",
   "execution_count": 6,
   "metadata": {
    "collapsed": true
   },
   "outputs": [],
   "source": [
    "def getD(d, V, n = 1):\n",
    "    l = h / ((2*e*m_e*V)**0.5)\n",
    "    return 2 * L * np.tan(2 * np.arcsin(0.5 * l * n / d))"
   ]
  },
  {
   "cell_type": "code",
   "execution_count": 7,
   "metadata": {
    "collapsed": true
   },
   "outputs": [],
   "source": [
    "ds = [d1, d2, 75e-12, 58e-12, 50e-12]"
   ]
  },
  {
   "cell_type": "code",
   "execution_count": 8,
   "metadata": {
    "collapsed": false
   },
   "outputs": [
    {
     "data": {
      "image/png": "[encoded data removed]",
      "text/plain": [
       "<matplotlib.figure.Figure at 0x7f9fe33ea358>"
      ]
     },
     "metadata": {},
     "output_type": "display_data"
    }
   ],
   "source": [
    "l = L * 100\n",
    "r = np.linspace(0, 1.1 * l)\n",
    "w = 7\n",
    "\n",
    "plt.plot([0], [0], \"r^\")\n",
    "plt.plot([l, l], [-0.5*w, 0.5*w], lw = 10, c = \"k\")\n",
    "\n",
    "for (i, d) in enumerate(ds):\n",
    "    theta = np.arctan(0.5 * getD(d, V[-1]) / L)\n",
    "    x = r * np.cos(theta)\n",
    "    y = r * np.sin(theta)\n",
    "\n",
    "    c = plt.plot(x, y, label = \"$d_{%d} = %.0f$ pm\"%(i + 1, d*1e12))[0].get_color()\n",
    "    plt.plot(x, -y, c = c)\n",
    "\n",
    "\n",
    "plt.xlim(-1, l * 1.2)\n",
    "\n",
    "total = l * 1.2 + 1\n",
    "plt.ylim(-0.5*total, 0.5*total)\n",
    "\n",
    "plt.legend()\n",
    "\n",
    "plt.xlabel(\"$x$ (cm)\")\n",
    "plt.ylabel(\"$y$ (cm)\")\n",
    "\n",
    "plt.savefig(\"deteccion.pdf\")\n",
    "plt.show()"
   ]
  },
  {
   "cell_type": "markdown",
   "metadata": {},
   "source": [
    "# 4. Obtener d"
   ]
  },
  {
   "cell_type": "code",
   "execution_count": 9,
   "metadata": {
    "collapsed": true
   },
   "outputs": [],
   "source": [
    "def linear(x, m):\n",
    "    return m*x\n",
    "\n",
    "def getd1(m, dm):\n",
    "    rel = dm / m\n",
    "    d = 1e12 * 2 * L * h / (m * (2 * e * m_e)**0.5)\n",
    "    dm = d * rel\n",
    "    return d, dm\n",
    "\n",
    "def getd2(m, dm):\n",
    "    rel = dm / m\n",
    "    d = 1e12 * h / (2 * m * (2 * e * m_e)**0.5)\n",
    "    dm = d * rel\n",
    "    return d, dm"
   ]
  },
  {
   "cell_type": "code",
   "execution_count": 10,
   "metadata": {
    "collapsed": false
   },
   "outputs": [
    {
     "name": "stdout",
     "output_type": "stream",
     "text": [
      "(201.71596233051915, 1.2990195692399937)\n",
      "(118.33597968303273, 0.5765476353521366)\n"
     ]
    },
    {
     "data": {
      "image/png": "[encoded data removed]",
      "text/plain": [
       "<matplotlib.figure.Figure at 0x7f9fe34107f0>"
      ]
     },
     "metadata": {},
     "output_type": "display_data"
    }
   ],
   "source": [
    "x = V**-0.5\n",
    "\n",
    "popt, pcov = curve_fit(linear, x, D1)\n",
    "m = popt[0]\n",
    "dm = pcov[0,0]**0.5\n",
    "print(getd1(m, dm))\n",
    "\n",
    "c1 = plt.plot(x, D1, \"o\", label = \"D1\")[0].get_color()\n",
    "plt.plot(x, x*m, \"--\", c = c1)\n",
    "plt.text(0.0175, 0.025, \"$D_1 = (%.2f \\pm %.2f)/\\sqrt{V}$\"%(m, dm), color = c1)\n",
    "\n",
    "\n",
    "popt, pcov = curve_fit(linear, x, D2)\n",
    "m = popt[0]\n",
    "dm = pcov[0,0]**0.5\n",
    "print(getd1(m, dm))\n",
    "\n",
    "c2 = plt.plot(x, D2, \"o\", label = \"D2\")[0].get_color()\n",
    "plt.plot(x, x*m, \"--\", c = c2)\n",
    "plt.text(0.016, 0.04, \"$D_2 = (%.2f \\pm %.2f)/\\sqrt{V}$\"%(m, dm), color = c2)\n",
    "\n",
    "plt.ylabel(\"$D_i$ (m)\")\n",
    "plt.xlabel(\"$1/\\sqrt{V}$ (V$^{-1/2}$)\")\n",
    "\n",
    "plt.legend()\n",
    "\n",
    "plt.savefig(\"linear1.pdf\")\n",
    "\n",
    "plt.show()"
   ]
  },
  {
   "cell_type": "code",
   "execution_count": 11,
   "metadata": {
    "collapsed": false
   },
   "outputs": [
    {
     "name": "stdout",
     "output_type": "stream",
     "text": [
      "(202.5379094810381, 1.281288009780231)\n",
      "(119.72663709471847, 0.548305343667407)\n"
     ]
    },
    {
     "data": {
      "image/png": "[encoded data removed]",
      "text/plain": [
       "<matplotlib.figure.Figure at 0x7f9fe335d668>"
      ]
     },
     "metadata": {},
     "output_type": "display_data"
    }
   ],
   "source": [
    "x = V**-0.5\n",
    "\n",
    "y = np.sin(0.5 * np.arctan(0.5 * D1 / L))\n",
    "popt, pcov = curve_fit(linear, x, y)\n",
    "m = popt[0]\n",
    "dm = pcov[0,0]**0.5\n",
    "print(getd2(m, dm))\n",
    "\n",
    "c1 = plt.plot(x, y, \"o\", label = \"D1\")[0].get_color()\n",
    "plt.plot(x, x*m, \"--\", c = c1)\n",
    "plt.text(0.0175, 0.045, \"$D_1 = (%.2f \\pm %.2f)/\\sqrt{V}$\"%(m, dm), color = c1)\n",
    "\n",
    "y = np.sin(0.5 * np.arctan(0.5 * D2 / L))\n",
    "popt, pcov = curve_fit(linear, x, y)\n",
    "m = popt[0]\n",
    "dm = pcov[0,0]**0.5\n",
    "print(getd2(m, dm))\n",
    "\n",
    "c2 = plt.plot(x, y, \"o\", label = \"D2\")[0].get_color()\n",
    "plt.plot(x, x*m, \"--\", c = c2)\n",
    "plt.text(0.016, 0.075, \"$D_2 = (%.2f \\pm %.2f)/\\sqrt{V}$\"%(m, dm), color = c2)\n",
    "\n",
    "plt.ylabel(r\"$\\sin(\\tan^{-1}\\left(\\frac{D_i}{2L}\\right)/2)$\")\n",
    "plt.xlabel(\"$1/\\sqrt{V}$ (V$^{-1/2}$)\")\n",
    "\n",
    "plt.legend()\n",
    "\n",
    "plt.savefig(\"linear2.pdf\")\n",
    "\n",
    "plt.show()"
   ]
  },
  {
   "cell_type": "markdown",
   "metadata": {},
   "source": [
    "# 5. Planck"
   ]
  },
  {
   "cell_type": "code",
   "execution_count": 12,
   "metadata": {
    "collapsed": true
   },
   "outputs": [],
   "source": [
    "def geth(V, d, D):\n",
    "    return 2 * d * (2 * e * m_e * V)**0.5 * np.sin(0.5 * np.arctan(0.5 * D / L))"
   ]
  },
  {
   "cell_type": "code",
   "execution_count": 13,
   "metadata": {
    "collapsed": false
   },
   "outputs": [
    {
     "name": "stdout",
     "output_type": "stream",
     "text": [
      "6.883564269876818e-34 1.5893380455871125e-35\n",
      "3.8860776949592646\n"
     ]
    }
   ],
   "source": [
    "h1 = geth(V, d1, D1)\n",
    "h2 = geth(V, d2, D2)\n",
    "\n",
    "hh = np.append(h1, h2)\n",
    "\n",
    "print(hh.mean(), hh.std())\n",
    "print(100 * abs(h - hh.mean())/h)"
   ]
  },
  {
   "cell_type": "code",
   "execution_count": 14,
   "metadata": {
    "collapsed": false
   },
   "outputs": [
    {
     "data": {
      "text/plain": [
       "-4.694835680751174"
      ]
     },
     "execution_count": 14,
     "metadata": {},
     "output_type": "execute_result"
    }
   ],
   "source": [
    "100*(203 - 213)/213"
   ]
  },
  {
   "cell_type": "code",
   "execution_count": 15,
   "metadata": {
    "collapsed": false
   },
   "outputs": [
    {
     "data": {
      "text/plain": [
       "array([24.52851921, 23.60257861, 22.77415835, 22.0272605 , 21.68035283,\n",
       "       21.0330317 , 20.44043267, 19.89525622, 19.39149708, 18.70282056,\n",
       "       18.48906702, 18.08266427, 17.70193396, 17.34428226])"
      ]
     },
     "execution_count": 15,
     "metadata": {},
     "output_type": "execute_result"
    }
   ],
   "source": [
    "lambda_deBroglie*1e12"
   ]
  },
  {
   "cell_type": "code",
   "execution_count": null,
   "metadata": {
    "collapsed": true
   },
   "outputs": [],
   "source": []
  }
 ],
 "metadata": {
  "kernelspec": {
   "display_name": "Python 3",
   "language": "python",
   "name": "python3"
  },
  "language_info": {
   "codemirror_mode": {
    "name": "ipython",
    "version": 3
   },
   "file_extension": ".py",
   "mimetype": "text/x-python",
   "name": "python",
   "nbconvert_exporter": "python",
   "pygments_lexer": "ipython3",
   "version": "3.4.5"
  }
 },
 "nbformat": 4,
 "nbformat_minor": 2
}
