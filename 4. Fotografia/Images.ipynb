{
 "cells": [
  {
   "cell_type": "code",
   "execution_count": 1,
   "metadata": {
    "collapsed": false
   },
   "outputs": [
    {
     "name": "stdout",
     "output_type": "stream",
     "text": [
      "Using matplotlib backend: Qt5Agg\n"
     ]
    }
   ],
   "source": [
    "import numpy as np\n",
    "from glob import glob\n",
    "import matplotlib.pyplot as plt\n",
    "\n",
    "from matplotlib.animation import FuncAnimation\n",
    "%matplotlib"
   ]
  },
  {
   "cell_type": "code",
   "execution_count": 2,
   "metadata": {
    "collapsed": false
   },
   "outputs": [],
   "source": [
    "output = [11 + i*6 for i in range(7)]"
   ]
  },
  {
   "cell_type": "code",
   "execution_count": 3,
   "metadata": {
    "collapsed": true
   },
   "outputs": [],
   "source": [
    "def loadimage(file):\n",
    "    matrix = np.genfromtxt(file).T\n",
    "    return matrix\n",
    "\n",
    "def normimage(matrix):\n",
    "    min_ = matrix.min()\n",
    "    matrix = (matrix - min_) / (matrix.max() - min_)\n",
    "    return abs(1 - matrix)"
   ]
  },
  {
   "cell_type": "code",
   "execution_count": 4,
   "metadata": {
    "collapsed": false
   },
   "outputs": [],
   "source": [
    "w_images = np.array([loadimage(\"Tungsteno/%dkV_1.txt\"%i) for i in output])\n",
    "ff_w = np.array([loadimage(\"Tungsteno/%dkV_2.txt\"%i) for i in output])\n",
    "au_images = np.array([loadimage(\"Plata/%dkV_1.txt\"%i) for i in output])\n",
    "ff_au = np.array([loadimage(\"Plata/%dkV_2.txt\"%i) for i in output])"
   ]
  },
  {
   "cell_type": "code",
   "execution_count": 5,
   "metadata": {
    "collapsed": false
   },
   "outputs": [],
   "source": [
    "au_images[-1] = (au_images[-1] + au_images[-2]) / 2"
   ]
  },
  {
   "cell_type": "code",
   "execution_count": 6,
   "metadata": {
    "collapsed": false
   },
   "outputs": [],
   "source": [
    "norm_w = w_images / (ff_w + 1)\n",
    "norm_au = au_images / (ff_au + 1)\n",
    "\n",
    "for i in range(len(output)):\n",
    "    norm_w[i] = normimage(norm_w[i])\n",
    "    norm_au[i] = normimage(norm_au[i])"
   ]
  },
  {
   "cell_type": "code",
   "execution_count": 7,
   "metadata": {
    "collapsed": true
   },
   "outputs": [],
   "source": [
    "def animate(i):\n",
    "    w_im.set_array(norm_w[i])\n",
    "    au_im.set_array(norm_au[i])\n",
    "    text.set_text(\"%s kV\"%output[i])\n",
    "    return w_im, au_im, text"
   ]
  },
  {
   "cell_type": "code",
   "execution_count": 8,
   "metadata": {
    "collapsed": false
   },
   "outputs": [],
   "source": [
    "cmap = \"jet\"\n",
    "\n",
    "fig, (ax1, ax2) = plt.subplots(1, 2, figsize = (8, 4.5))\n",
    "text = ax1.text(200, 225, \"\", color = \"w\")\n",
    "\n",
    "w_im = ax1.imshow(norm_w[0], vmin = 0, vmax = 1, cmap = cmap)\n",
    "au_im = ax2.imshow(norm_au[0], vmin = 0, vmax = 1, cmap = cmap)\n",
    "\n",
    "ax1.set_title(\"Tungsteno\")\n",
    "ax2.set_title(\"Plata\")\n",
    "ax1.set_axis_off()\n",
    "ax2.set_axis_off()\n",
    "\n",
    "ani = FuncAnimation(fig, animate, frames = len(output), interval = 500)\n",
    "# ani.save(\"results.gif\", writer = \"imagemagick\")\n",
    "plt.show()"
   ]
  },
  {
   "cell_type": "code",
   "execution_count": 9,
   "metadata": {
    "collapsed": true
   },
   "outputs": [],
   "source": [
    "from skimage import measure\n",
    "\n",
    "r = norm_w[-1]\n",
    "\n",
    "contours = measure.find_contours(r, 0.8)\n",
    "\n",
    "fig, ax = plt.subplots()\n",
    "\n",
    "ax.imshow(r, interpolation='nearest', cmap = \"jet\")\n",
    "\n",
    "for n, contour in enumerate(contours):\n",
    "    ax.plot(contour[:, 1], contour[:, 0], linewidth=2)\n",
    "\n",
    "plt.show()"
   ]
  },
  {
   "cell_type": "code",
   "execution_count": 10,
   "metadata": {
    "collapsed": true
   },
   "outputs": [],
   "source": [
    "def crop(matrix, a, b, c, d):\n",
    "    X = np.arange(0, 256)\n",
    "    Y = np.arange(0, 256)\n",
    "\n",
    "    X, Y = np.meshgrid(X, Y)\n",
    "    \n",
    "    pos = (X >= a) & (X <= b) & (Y >= c) & (Y <= d)\n",
    "    \n",
    "    T = matrix[pos]\n",
    "    return T.reshape((d-c + 1), (b-a + 1))"
   ]
  },
  {
   "cell_type": "code",
   "execution_count": 11,
   "metadata": {
    "collapsed": true
   },
   "outputs": [],
   "source": [
    "def animate(i):\n",
    "    e = output[i]\n",
    "    im = data[i]\n",
    "    small = crop(im, a, b, c, d)\n",
    "    p1.set_array(im)\n",
    "    p2.set_array(small)\n",
    "    \n",
    "    M, m = small.max(), small.min()\n",
    "    contrast = 100*(M - m)\n",
    "    \n",
    "    axes[0].set_title(\"%d kV\"%e)\n",
    "    axes[1].set_title(\"Contraste: %.2f\"%contrast)\n",
    "    \n",
    "    return p1, p2"
   ]
  },
  {
   "cell_type": "code",
   "execution_count": 12,
   "metadata": {
    "collapsed": false
   },
   "outputs": [],
   "source": [
    "fig, axes = plt.subplots(1, 2)\n",
    "\n",
    "a, b, c, d = 65, 90, 50, 65\n",
    "\n",
    "p1 = axes[0].imshow(np.zeros((256, 256)), vmin = 0, vmax = 1, cmap = \"jet\")\n",
    "p2 = axes[1].imshow(np.zeros((b - a + 1, d - c + 1)), vmin = 0, vmax = 1, cmap = \"jet\")\n",
    "\n",
    "data = norm_w\n",
    "\n",
    "ani = FuncAnimation(fig, animate, frames = len(output), interval = 500)\n",
    "ani.save(\"CW.gif\", writer = \"imagemagick\")\n",
    "plt.show()"
   ]
  },
  {
   "cell_type": "code",
   "execution_count": 13,
   "metadata": {
    "collapsed": true
   },
   "outputs": [],
   "source": [
    "fig, axes = plt.subplots(1, 2)\n",
    "\n",
    "a, b, c, d = 70, 95, 55, 75\n",
    "\n",
    "p1 = axes[0].imshow(np.zeros((256, 256)), vmin = 0, vmax = 1, cmap = \"jet\")\n",
    "p2 = axes[1].imshow(np.zeros((b - a + 1, d - c + 1)), vmin = 0, vmax = 1, cmap = \"jet\")\n",
    "\n",
    "data = norm_au\n",
    "\n",
    "ani = FuncAnimation(fig, animate, frames = len(output), interval = 500)\n",
    "ani.save(\"CAu.gif\", writer = \"imagemagick\")\n",
    "plt.show()"
   ]
  },
  {
   "cell_type": "code",
   "execution_count": null,
   "metadata": {
    "collapsed": true
   },
   "outputs": [],
   "source": []
  }
 ],
 "metadata": {
  "kernelspec": {
   "display_name": "Python 3",
   "language": "python",
   "name": "python3"
  },
  "language_info": {
   "codemirror_mode": {
    "name": "ipython",
    "version": 3
   },
   "file_extension": ".py",
   "mimetype": "text/x-python",
   "name": "python",
   "nbconvert_exporter": "python",
   "pygments_lexer": "ipython3",
   "version": "3.4.5"
  }
 },
 "nbformat": 4,
 "nbformat_minor": 2
}
